{
    "nbformat_minor": 1, 
    "cells": [
        {
            "source": "<img src=\"http://nationalfranchisedirectory.com/uploads/curriculum-vitae/osmow27s--371346.png\" width=\"200\"><img src=\"https://scontent-ort2-1.cdninstagram.com/vp/0cf32b51a35afc74d3340e98929d9a89/5E14B90B/t51.2885-15/e35/54732212_165313517804421_5721498998139488337_n.jpg?_nc_ht=scontent-ort2-1.cdninstagram.com\" width=\"200\" />\n", 
            "cell_type": "markdown", 
            "metadata": {
                "collapsed": true
            }
        }, 
        {
            "source": "<h1><center>Osmow\u2019s new establishment for Toronto</center></h1>\n<hr>\n\n<h2>Introduction</h2>\n\n<p>Osmow\u2019s, a modern authentic Mediterranean restaurant, received the  <a href=\"https://mrosmow.com/about-us/\">2018 Platinum Readers\u2019 Choice Awards</a>. On June 13, 2019, Raptors won their 1st National Basketball Association (<a href=\"https://ca.nba.com/?gr=www\">NBA</a>) championship title. Osmow\u2019s hired Norman Powell and Fred Vanvleet, players from Raptors team, to create an advertisement for their fast food chain. Since then Osmow\u2019s restaurant has been growing exponentially. Currently there are 70+ locations in Ontario out of which, two are located in downtown Toronto, one at Queen & Bathurst (Fashion District) and another at College & Augusta (Kensington Market). Being a Torontonian and seeing the craving for this cuisine, as per the <a href=\"https://mrosmow.com/locations/\">Osmow's</a> official web site, I decided to do my capstone project on recommending a new location for establishing the Osmow\u2019s restaurant in one of the following locations: East Toronto, Central Toronto, Downtown Toronto or West Toronto.</p>", 
            "cell_type": "markdown", 
            "metadata": {}
        }, 
        {
            "source": "<h2>Business Synopsis</h2>\n\n<p>The city of Toronto is known for its multiculturalism. Toronto is the fourth-most-populous North American city by population (2,826,498) as per the <a href=\"https://en.wikipedia.org/wiki/Toronto\">wikipedia.org</a>. In Toronto city the following locations: East Toronto, Central Toronto, Downtown Toronto and West Toronto have wide varieties of fast food restaurants, cuisines and many venues. As we are aware that currently Osmow\u2019s is located at Queen and Bathurst (Fashion District) and at College and Augusta (Kensington Market). One of the greatest challenges is to come up with the best location for a new restaurant for this brand.</p>\n<p>In order to meet this business challenge, we will apply analytical approach of data science methodology, such as machine learning technique and also leverage the Foursquare API to provide solution for business issue, which is also the requirement for the capstone project.</p>", 
            "cell_type": "markdown", 
            "metadata": {}
        }, 
        {
            "source": "<h2>Stake holders</h2>\n\n<p>If someone is looking to open a restaurant or any investors, who are interested in opening up a Mediterranean cuisine or fast food restaurant, can become stake holders for this project. This article can be useful for Osmow\u2019s franchisees, franchisers and their fans because this will allow them to discover more opportunities for this business. Food lovers and healthy food trend followers may find this article to be interesting too. Throughout the year Toronto is explored by many tourists and new immigrants; this project will allow them to have a better insight regarding the different venues that exist at East Toronto, Central Toronto, Downtown Toronto and West Toronto.</p>", 
            "cell_type": "markdown", 
            "metadata": {}
        }, 
        {
            "source": "<h2>Data Requirements</h2>\n\n<p>In order to eradicate the obstacle of finding the best location for the Osmow\u2019s modern Mediterranean cuisine, data requirements are enumerated below:\n\n1. Data related to East Toronto, Central Toronto, Downtown Toronto and West Toronto is required.\n\n2. Data for different types of venues and specially related to fast food restaurants and Mediterranean cuisine for the above locations needs to be collected.\n\n3. In order to utilize the Foursquare location data, the latitude and the longitude coordinates for the above locations and venues are required. The Geocoder Python package will be utilised to collect the latitude and longitude. Recently it was noticed that when a request was made to get the latitude and longitude coordinates of a given postal code, often the return result is NaN value. In order to mitigate this issue, Geocoder Python package will not be used. Instead the following csv file will be used for this purpose: <a href=\"http://cocl.us/Geospatial_data\">http://cocl.us/Geospatial_data</a>\n    \n4. Folium libraries will be used for plotting point of interest on the map for the data visualization purpose.\n\n5. Various Python packages will be required for data collection, data understanding and data preparation.\n</p>", 
            "cell_type": "markdown", 
            "metadata": {}
        }, 
        {
            "source": "<h2>Data Collection</h2>\n\n<p>Data collection process are enumerated as follows:\n\n1. Web scraping library, BeautifulSoup4 package will be utilised for collecting and cleaning the data for the above mentioned locations for the city of Toronto from the following link: <a href=\"https://en.wikipedia.org/wiki/List_of_postal_codes_of_Canada:_M\">https://en.wikipedia.org/wiki/List_of_postal_codes_of_Canada:_M</a>\n\n2. Toronto\u2019s table extracted from the Wikipedia portal mentioned above will be converted into Pandas DataFrame.\n\n3. The following link: <a href=\"http://cocl.us/Geospatial_data/Geospatial_Coordinates.csv\">http://cocl.us/Geospatial_data/Geospatial_Coordinates.csv</a> will be used to download the csv file that has the geographical coordinates of each postal code.\n    \n4. The latitude and longitude columns of Toronto Pandas DataFrame will be populated with geographical coordinates based on each postal code column from the csv files.\n\n5. Foursquare API will be used to collect the different venues for the above mentioned locations.\n    \n6. Upon retrieving the JSON flat file successfully using Foursquare API, Data Preparation stage will kick in and finally Data Wrangling will be performed to clean the JSON flat file and structure it into a Pandas DataFrame. This process will allow us to better customise and analyze the data to meet the above mentioned business objective.\n\n7. Upon successfully completing the data preparation phase, the data modeling phase will be implemented. In this phase the data will be module to apply the K-Means clustering machine learning technique to segment the data into different clusters.\n\n8. Based on the above result, the information will be plotted into the map and conclusion will be derived based on machine learning for the different clusters and finally the best location for the Osmow\u2019s modern Mediterranean cuisine will be predicted.</p>", 
            "cell_type": "markdown", 
            "metadata": {}
        }, 
        {
            "source": "<h2>The final deliverables of the project will be implemented soon\u2026<h2>", 
            "cell_type": "markdown", 
            "metadata": {}
        }, 
        {
            "execution_count": null, 
            "cell_type": "code", 
            "metadata": {}, 
            "outputs": [], 
            "source": ""
        }
    ], 
    "metadata": {
        "kernelspec": {
            "display_name": "Python 3.6", 
            "name": "python3", 
            "language": "python"
        }, 
        "language_info": {
            "mimetype": "text/x-python", 
            "nbconvert_exporter": "python", 
            "version": "3.6.8", 
            "name": "python", 
            "file_extension": ".py", 
            "pygments_lexer": "ipython3", 
            "codemirror_mode": {
                "version": 3, 
                "name": "ipython"
            }
        }
    }, 
    "nbformat": 4
}